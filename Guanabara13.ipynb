{
  "nbformat": 4,
  "nbformat_minor": 0,
  "metadata": {
    "colab": {
      "provenance": [],
      "authorship_tag": "ABX9TyOpBiEmkHq5wk+n3q76Qqwx",
      "include_colab_link": true
    },
    "kernelspec": {
      "name": "python3",
      "display_name": "Python 3"
    },
    "language_info": {
      "name": "python"
    }
  },
  "cells": [
    {
      "cell_type": "markdown",
      "metadata": {
        "id": "view-in-github",
        "colab_type": "text"
      },
      "source": [
        "<a href=\"https://colab.research.google.com/github/burgosje/Guanabara_Aula13/blob/main/Guanabara13.ipynb\" target=\"_parent\"><img src=\"https://colab.research.google.com/assets/colab-badge.svg\" alt=\"Open In Colab\"/></a>"
      ]
    },
    {
      "cell_type": "markdown",
      "source": [
        "Aula 13 Curso em Vídeo Guanabara"
      ],
      "metadata": {
        "id": "yGPKapCOraJ0"
      }
    },
    {
      "cell_type": "markdown",
      "source": [
        "Repetições controladas /\n",
        "Laços de repetição (Parte 1)"
      ],
      "metadata": {
        "id": "PjA3mNDyPOkb"
      }
    },
    {
      "cell_type": "code",
      "source": [
        "for c in range(0, 6):\n",
        "  print('Oi')\n",
        "  print('FIM')"
      ],
      "metadata": {
        "colab": {
          "base_uri": "https://localhost:8080/"
        },
        "id": "rgc8vkEaTOiJ",
        "outputId": "30f9fd1b-0fd6-40fe-b844-824b7206d2b8"
      },
      "execution_count": null,
      "outputs": [
        {
          "output_type": "stream",
          "name": "stdout",
          "text": [
            "Oi\n",
            "FIM\n",
            "Oi\n",
            "FIM\n",
            "Oi\n",
            "FIM\n",
            "Oi\n",
            "FIM\n",
            "Oi\n",
            "FIM\n",
            "Oi\n",
            "FIM\n"
          ]
        }
      ]
    },
    {
      "cell_type": "code",
      "source": [
        "for c in range(0,6):\n",
        "  print('Oi')\n",
        "for c in range(0,6):\n",
        "  print('FIM')"
      ],
      "metadata": {
        "colab": {
          "base_uri": "https://localhost:8080/"
        },
        "id": "mBgp1RjWT0v8",
        "outputId": "7189efbf-696d-422c-d30b-3ca9d430508c"
      },
      "execution_count": null,
      "outputs": [
        {
          "output_type": "stream",
          "name": "stdout",
          "text": [
            "Oi\n",
            "Oi\n",
            "Oi\n",
            "Oi\n",
            "Oi\n",
            "Oi\n",
            "FIM\n",
            "FIM\n",
            "FIM\n",
            "FIM\n",
            "FIM\n",
            "FIM\n"
          ]
        }
      ]
    },
    {
      "cell_type": "code",
      "source": [
        "for c in range(1,7):\n",
        "  print(c)\n",
        "print('FIM')"
      ],
      "metadata": {
        "colab": {
          "base_uri": "https://localhost:8080/"
        },
        "id": "yCf28FdaUBvR",
        "outputId": "6e627aa7-c641-4cf9-9251-5ecd95e6228f"
      },
      "execution_count": null,
      "outputs": [
        {
          "output_type": "stream",
          "name": "stdout",
          "text": [
            "1\n",
            "2\n",
            "3\n",
            "4\n",
            "5\n",
            "6\n",
            "FIM\n"
          ]
        }
      ]
    },
    {
      "cell_type": "code",
      "source": [
        "for c in range(6, 0, -1):\n",
        "  print(c)\n",
        "print('FIM')"
      ],
      "metadata": {
        "colab": {
          "base_uri": "https://localhost:8080/"
        },
        "id": "X5BlugHOUTZ9",
        "outputId": "b93ea98e-3fe4-47c0-b07a-34d82ef39ba5"
      },
      "execution_count": null,
      "outputs": [
        {
          "output_type": "stream",
          "name": "stdout",
          "text": [
            "6\n",
            "5\n",
            "4\n",
            "3\n",
            "2\n",
            "1\n",
            "FIM\n"
          ]
        }
      ]
    },
    {
      "cell_type": "code",
      "source": [
        "for c in range(0, 7, 2):\n",
        "  print(c)\n",
        "print('FIM')"
      ],
      "metadata": {
        "colab": {
          "base_uri": "https://localhost:8080/"
        },
        "id": "jJZB4P-yUkWg",
        "outputId": "726f12ff-ba3e-47cb-a9b2-8c5bfd52c175"
      },
      "execution_count": null,
      "outputs": [
        {
          "output_type": "stream",
          "name": "stdout",
          "text": [
            "0\n",
            "2\n",
            "4\n",
            "6\n",
            "FIM\n"
          ]
        }
      ]
    },
    {
      "cell_type": "code",
      "source": [
        "n = int(input('Digite um número: '))\n",
        "for c in range(0, n+1):\n",
        "  print(c)\n",
        "print('FIM')"
      ],
      "metadata": {
        "colab": {
          "base_uri": "https://localhost:8080/"
        },
        "id": "Zv8PEukjU1d4",
        "outputId": "5f3f4281-b1ca-4667-9c5e-a31eb4778a96"
      },
      "execution_count": null,
      "outputs": [
        {
          "output_type": "stream",
          "name": "stdout",
          "text": [
            "Digite um número: 10\n",
            "0\n",
            "1\n",
            "2\n",
            "3\n",
            "4\n",
            "5\n",
            "6\n",
            "7\n",
            "8\n",
            "9\n",
            "10\n",
            "FIM\n"
          ]
        }
      ]
    },
    {
      "cell_type": "code",
      "source": [
        "i = int(input('Início: '))\n",
        "f = int(input('Fim: '))\n",
        "p = int(input('Passo: '))\n",
        "\n",
        "for c in range(i, f+1, p):\n",
        "  print(c)\n",
        "\n",
        "print('FIM')"
      ],
      "metadata": {
        "colab": {
          "base_uri": "https://localhost:8080/"
        },
        "id": "_y4Osv4_VW9K",
        "outputId": "3c343e39-3cba-4c56-932b-3cc65a00bfa9"
      },
      "execution_count": null,
      "outputs": [
        {
          "output_type": "stream",
          "name": "stdout",
          "text": [
            "Início: 2\n",
            "Fim: 9\n",
            "Passo: 3\n",
            "2\n",
            "5\n",
            "8\n",
            "FIM\n"
          ]
        }
      ]
    },
    {
      "cell_type": "code",
      "source": [
        "s = 0\n",
        "for c in range(0, 3):\n",
        "  n = int(input('Digite um valor: '))\n",
        "  s += n\n",
        "print(f'O somatório de todos os valores foi {s}')"
      ],
      "metadata": {
        "id": "d84GHlZHWBhi"
      },
      "execution_count": null,
      "outputs": []
    },
    {
      "cell_type": "code",
      "source": [
        "n = int(input('Digite um número: '))\n",
        "for c in range(0, n+1):\n",
        "  print(c)\n",
        "print('FIM')"
      ],
      "metadata": {
        "id": "m0y9nqB_wd7e"
      },
      "execution_count": null,
      "outputs": []
    },
    {
      "cell_type": "code",
      "source": [
        "from time import sleep\n",
        "\n",
        "for c in range (10, -1, -1):\n",
        "  print(c)\n",
        "  sleep(1)\n",
        "print('Feliz Ano Novo!')"
      ],
      "metadata": {
        "id": "aMHF4qjqxMMC"
      },
      "execution_count": null,
      "outputs": []
    },
    {
      "cell_type": "code",
      "source": [
        "for c in range (2, 51, 2):\n",
        "  print(c)"
      ],
      "metadata": {
        "id": "7AMFDfs1yr5U"
      },
      "execution_count": null,
      "outputs": []
    },
    {
      "cell_type": "code",
      "source": [
        "soma = 0\n",
        "cont = 0\n",
        "\n",
        "for c in range (1, 501, 2):\n",
        "  if c % 3 == 0:\n",
        "    soma = soma + c\n",
        "    cont = cont + 1\n",
        "\n",
        "print(f'A soma de todos os {cont} valores solicitados é {soma}')"
      ],
      "metadata": {
        "id": "F3kzMWNIzAb6"
      },
      "execution_count": null,
      "outputs": []
    },
    {
      "cell_type": "code",
      "source": [
        "n = int(input('Digite um número: '))\n",
        "\n",
        "for c in range (1, 11):\n",
        "  print('{} x {:2} = {}'.format(n, c, n * c))"
      ],
      "metadata": {
        "id": "Cn4Kqd_o0scc"
      },
      "execution_count": null,
      "outputs": []
    },
    {
      "cell_type": "code",
      "source": [
        "soma = 0\n",
        "cont = 0\n",
        "\n",
        "for c in range (1, 7):\n",
        "  num = int(input(f'Digite o {c}º valor: '))\n",
        "  soma += num\n",
        "  cont += 1\n",
        "\n",
        "print(f'Você informou {c} números e a soma foi {soma}')"
      ],
      "metadata": {
        "colab": {
          "base_uri": "https://localhost:8080/"
        },
        "id": "TdGUZ8Z75EP2",
        "outputId": "806d360c-eaaf-4dcb-ad66-0d0a277c6aa3"
      },
      "execution_count": null,
      "outputs": [
        {
          "output_type": "stream",
          "name": "stdout",
          "text": [
            "Digite o 1º valor: 1\n",
            "Digite o 2º valor: 2\n",
            "Digite o 3º valor: 3\n",
            "Digite o 4º valor: 4\n",
            "Digite o 5º valor: 5\n",
            "Digite o 6º valor: 6\n",
            "Você informou 6 números e a soma foi 21\n"
          ]
        }
      ]
    },
    {
      "cell_type": "code",
      "source": [
        "primo = int(input('Digite um número primo: '))\n",
        "tot = 0\n",
        "\n",
        "for c in range (1, primo + 1):\n",
        "  if primo % c == 0:\n",
        "      print('\\033[33m', end='')\n",
        "      tot +=1\n",
        "  else:\n",
        "    print('\\033[31m', end='')\n",
        "  print(f'{c} ', end='')\n",
        "print(f'\\n\\033[mO número {primo} foi divisível {tot} vezes')\n",
        "\n",
        "if tot == 2:\n",
        "  print('Por isso ele é primo')\n",
        "else:\n",
        "  print('Então ele não é primo')"
      ],
      "metadata": {
        "colab": {
          "base_uri": "https://localhost:8080/"
        },
        "id": "3F9X0BTo9TQx",
        "outputId": "28dcaf20-8114-49ae-8dcf-e4692aedf77d"
      },
      "execution_count": null,
      "outputs": [
        {
          "output_type": "stream",
          "name": "stdout",
          "text": [
            "Digite um número primo: 7\n",
            "\u001b[33m1 \u001b[31m2 \u001b[31m3 \u001b[31m4 \u001b[31m5 \u001b[31m6 \u001b[33m7 \n",
            "\u001b[mO número 7 foi divisível 2 vezes\n",
            "Por isso ele é primo\n"
          ]
        }
      ]
    },
    {
      "cell_type": "code",
      "source": [
        "frase = input('Digite uma frase: ').strip().upper()\n",
        "palavras = frase.split()\n",
        "junto = ''.join(palavras)\n",
        "inverso = ''\n",
        "inverso = junto[::-1]\n",
        "print(f'O inverso de {junto} é {inverso}')\n",
        "if inverso == junto:\n",
        "  print('Temos um palíndromo!')\n",
        "else:\n",
        "  print('A frase digitada não é um palíndromo')"
      ],
      "metadata": {
        "colab": {
          "base_uri": "https://localhost:8080/"
        },
        "id": "uVrBtkA2AeDa",
        "outputId": "9088aeb6-fb20-42c3-ebfa-7524c72d0f95"
      },
      "execution_count": null,
      "outputs": [
        {
          "output_type": "stream",
          "name": "stdout",
          "text": [
            "Digite uma frase: burgos\n",
            "O inverso de BURGOS é SOGRUB\n",
            "A frase digitada não é um palíndromo\n"
          ]
        }
      ]
    },
    {
      "cell_type": "code",
      "source": [
        "for c in range(1, 8):\n",
        "  ano = int(input(f'Digite o ano de nascimento da {c}ª pessoa: '))\n",
        "\n",
        "if idade < 18:\n",
        "  idade = 2023 - c\n",
        "  print(f'As pessoas {c} ainda não atingiram a maior idade')"
      ],
      "metadata": {
        "colab": {
          "base_uri": "https://localhost:8080/"
        },
        "id": "g7u8oz0VEVGF",
        "outputId": "754134ee-3d23-4b73-a63d-017f4c530e1e"
      },
      "execution_count": null,
      "outputs": [
        {
          "name": "stdout",
          "output_type": "stream",
          "text": [
            "Digite o ano de nascimento da 1ª pessoa: 2020\n",
            "Digite o ano de nascimento da 2ª pessoa: 2019\n",
            "Digite o ano de nascimento da 3ª pessoa: 2000\n",
            "Digite o ano de nascimento da 4ª pessoa: 2001\n",
            "Digite o ano de nascimento da 5ª pessoa: 2002\n",
            "Digite o ano de nascimento da 6ª pessoa: 2022\n",
            "Digite o ano de nascimento da 7ª pessoa: 2018\n"
          ]
        }
      ]
    },
    {
      "cell_type": "code",
      "source": [
        "from datetime import date\n",
        "atual = date.today().year\n",
        "totmaior = 0\n",
        "totmenor = 0\n",
        "for pess in range (1, 8):\n",
        "  nasc = int(input('Em que ano a {}ª pessoa nasceu? '.format(pess)))\n",
        "  idade = atual - nasc\n",
        "  if idade >= 18:\n",
        "    totmaior += 1\n",
        "  else:\n",
        "    totmenor += 1\n",
        "\n",
        "print(f'Tivemos {totmaior} pessoas maiores de idade')\n",
        "print(f'Tivemos {totmenor} pessoas menores de idade')"
      ],
      "metadata": {
        "id": "yab5UrAjHOW8"
      },
      "execution_count": null,
      "outputs": []
    },
    {
      "cell_type": "code",
      "source": [
        "maior = 0\n",
        "menor = 0\n",
        "\n",
        "for p in range(1, 6):\n",
        "  peso = float(input(f'Peso da {p}ª pessoa: '))\n",
        "  if p == 1:\n",
        "    maior = p\n",
        "    menor = p\n",
        "  else:\n",
        "    if peso > maior:\n",
        "      maior = peso\n",
        "    if peso < menor:\n",
        "      menor = peso\n",
        "\n",
        "print(f'O maior peso lido foi {maior}')\n",
        "print(f'O menor peso lido foi {menor}')"
      ],
      "metadata": {
        "colab": {
          "base_uri": "https://localhost:8080/"
        },
        "id": "Y12drKiZLRKk",
        "outputId": "d70223bc-0df3-4f89-de40-8c77533a46b8"
      },
      "execution_count": null,
      "outputs": [
        {
          "output_type": "stream",
          "name": "stdout",
          "text": [
            "Peso da 1ª pessoa: 10\n",
            "Peso da 2ª pessoa: 20\n",
            "Peso da 3ª pessoa: 30\n",
            "Peso da 4ª pessoa: 40\n",
            "Peso da 5ª pessoa: 50\n",
            "O maior peso lido foi 50.0\n",
            "O menor peso lido foi 1\n"
          ]
        }
      ]
    },
    {
      "cell_type": "markdown",
      "source": [
        "Desenvolva um programa que leia o nome, idade e sexo de 4 pessoas. No final do programa, mostre:\n",
        "- A média de idade do grupo\n",
        "- Qual é o nome do homem mais velho\n",
        "- Quantas mulheres têm menos de 20 anos"
      ],
      "metadata": {
        "id": "GpQiss_8YSYO"
      }
    },
    {
      "cell_type": "code",
      "source": [
        "somaidade = 0\n",
        "mediaidade = 0\n",
        "maioridadehomem = 0\n",
        "nomevelho = \"\"\n",
        "totmulher20 = 0\n",
        "\n",
        "for p in range(1, 5):\n",
        "  print(f\"{p}ª pessoa\")\n",
        "  nome = input(\"Nome: \").strip()\n",
        "  idade = int(input(\"Idade: \"))\n",
        "  sexo = input(\"Sexo [M/F]: \").strip()\n",
        "  somaidade += idade\n",
        "  if p == 1 and sexo in \"Mm\":\n",
        "    maioridadehomem = idade\n",
        "    nomevelho = nome\n",
        "  if sexo in \"Mm\" and idade > maioridadehomem:\n",
        "    maioridadehomem = idade\n",
        "    nomevelho = nome\n",
        "  if sexo in \"Ff\" and idade < 20:\n",
        "    totmulher20 += 1\n",
        "\n",
        "mediaidade = somaidade / 4\n",
        "print(f\"A média da idade do grupo é de {mediaidade} anos\")\n",
        "print(f\"O homem mais velho tem {maioridadehomem} e se chama {nomevelho} \")\n",
        "print(f\"Ao todo são {totmulher20} mulheres com menos de 20 anos\")"
      ],
      "metadata": {
        "colab": {
          "base_uri": "https://localhost:8080/"
        },
        "id": "aNkIWX7KYhVt",
        "outputId": "7078dbbb-7ad6-404a-e4b0-ff743cdc34ff"
      },
      "execution_count": null,
      "outputs": [
        {
          "output_type": "stream",
          "name": "stdout",
          "text": [
            "1ª pessoa\n",
            "Nome: Maria\n",
            "Idade: 19\n",
            "Sexo [M/F]: F\n",
            "2ª pessoa\n",
            "Nome: Jasmin\n",
            "Idade: 18\n",
            "Sexo [M/F]: F\n",
            "3ª pessoa\n",
            "Nome: Yuri\n",
            "Idade: 89\n",
            "Sexo [M/F]: M\n",
            "4ª pessoa\n",
            "Nome: Gabril\n",
            "Idade: 37\n",
            "Sexo [M/F]: M\n",
            "A média da idade do grupo é de 40.75 anos\n",
            "O homem mais velho tem 89 e se chama Yuri \n",
            "Ao todo são 2 mulheres com menos de 20 anos\n"
          ]
        }
      ]
    }
  ]
}